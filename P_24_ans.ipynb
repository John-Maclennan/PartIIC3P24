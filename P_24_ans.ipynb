{
 "cells": [
  {
   "cell_type": "markdown",
   "id": "boring-column",
   "metadata": {},
   "source": [
    "# Practical 24: Crystallisation in the Icelandic Crust #\n",
    "## John Maclennan ,Lent 2021 ##\n"
   ]
  },
  {
   "cell_type": "markdown",
   "id": "simple-paintball",
   "metadata": {},
   "source": [
    "## 1. Crustal Accretion at Mid-Ocean Ridges \n",
    "\n",
    "The mode of crustal accretion at mid-ocean ridges can be constrained with geophysical and geochemical observations at active ridges and geological work at ophiolites. Two end-member models of crustal accretion are the gabbro-glacier models and the stacked-sills models. \n",
    "\n",
    "In the __gabbro glacier__, melt is supplied directly from the mantle to a shallow magma chamber. Cooling of melt and crystallisation occurs in this magma chamber. The solid cumulate gabbros of the lower crust are then fed downwards by solid flow to generate the full thickness of oceanic crust. Importantly, in this model, all crystallisation takes place in the shallow melt lens and above. \n",
    "\n",
    "In contrast, the __stacked-sills model__, favoured by workers such as Peter [Kelemen](http://www.sciencedirect.com/science/article/pii/S0012821X9600235X), involves crystallisation throughout the lower axial crust. In this model, mantle melts stall close to, or beneath, the Moho in small melt sills. Cooling and crystallisation occurs in these sills. Melt is then extracted from the sills, and may pond and crystallise in a series of sills in the lower crust. Therefore, in contrast to the gabbro-glacier model, the stacked-sills model involves crystallisation at a range of depths in the lower crust.\n",
    "\n",
    "![*Figure 1: Schematic showing distribution of magma chambers, solid flow and melt flow in a) gabbro glacier and b) stacked sills crustal accretion models at typical fast-spreading ridges*](gabbro_glac.png)\n",
    "\n",
    "\n",
    "__Figure 1__: Schematic showing distribution of magma chambers, solid flow and melt flow in a) gabbro glacier and b) stacked sills crustal accretion models at typical fast-spreading ridges.\n",
    "\n",
    "Arguments over oceanic crustal accretion mechanisms tend to focus on fast-spreading ridges. However, study of the Icelandic rift zones has made an important contribution to this subject. Geophysical studies have identified a shallow melt lens at 3-5 km depth under the Krafla caldera. This melt lens apparently sits above a predominantly solid lower crust that extends to ~20 km depth at Krafla. The arrangement of a shallow melt lens over a seismically fast lower crust inspired the development of a gabbro-glacier model of crustal accretion for Iceland [(Menke and Sparks, 1995)](http://onlinelibrary.wiley.com/doi/10.1029/95GL01597/full). In this practical, we will use the major element composition and petrography of Icelandic basalts to test this gabbro-glacier model. "
   ]
  },
  {
   "cell_type": "markdown",
   "id": "decent-finder",
   "metadata": {},
   "source": [
    "## 2. Iceland: The Krafla and Theistareykir volcanic systems ##\n",
    "\n",
    "The northern part of the Northern Rift Zone is a good location to examine crustal accretion mechanisms because it has been the focus of geophysical, geological and petrological observations since the 1975-84 Krafla fissure eruptions. Use Google Earth to take a look at the region and refer to geological maps to get a feeling for the area.\n",
    "\n",
    "![*Figure 2: (a) Results of the FIRE seismic survey across the ridge axis at Krafla. Both the horizontal and vertical scales are in km; there is no vertical exaggeration. The zero position lies close to the centre of the Krafla caldera. P-wave isovelocity contours are marked with black lines and the velocity in km s-1. The white fill shows the position of the melt lens. The black triangles mark the points where the seismic section crosses the caldera edge. (b) Tectonic map of Iceland showing positions of fissure swarms (light grey fill) and volcanic zones. WVZ, Western Volcanic Zone; EVZ, Eastern Volcanic Zone; NVZ, Northern Volcanic Zone. Glaciers are marked with white fill and the study area in the NVZ is outlined in black. (c) Tectonic and geological map of Krafla and Theistareykir. Extent of fissure swarms is filled with diagonal lines. The Krafla caldera is marked with ticks on the down-thrown side and the margins of the central volcanic areas are marked with dashed lines. The white circles show the positions of samples collected from Theistareykir and the black squares show the locations of the Krafla samples.The black solid line which cuts across the Krafla caldera is that of the FIRE seismic survey shown in (a). Lake Myvatn is filled white and labelled MY.*](fire.png)\n",
    "\n",
    "__Figure 2:__ (a) Results of the FIRE seismic survey across the ridge axis at Krafla. Both the horizontal and vertical scales are in km; there is no vertical exaggeration. The zero position lies close to the centre of the Krafla caldera. P-wave isovelocity contours are marked with black lines and the velocity in km s<sup>-1</sup>. The white fill shows the position of the melt lens. The black triangles mark the points where the seismic section crosses the caldera edge. (b) Tectonic map of Iceland showing positions of fissure swarms (light grey fill) and volcanic zones. WVZ, Western Volcanic Zone; EVZ, Eastern Volcanic Zone; NVZ, Northern Volcanic Zone. Glaciers are marked with white fill and the study area in the NVZ is outlined in black. (c) Tectonic and geological map of Krafla and Theistareykir. Extent of fissure swarms is filled with diagonal lines. The Krafla caldera is marked with ticks on the down-thrown side and the margins of the central volcanic areas are marked with dashed lines. The white circles show the positions of samples collected from Theistareykir and the black squares show the locations of the Krafla samples. The black solid line which cuts across the Krafla caldera is that of the FIRE seismic survey shown in (a). Lake Myvatn is filled white and labelled MY."
   ]
  },
  {
   "cell_type": "markdown",
   "id": "senior-fraud",
   "metadata": {},
   "source": [
    "## 3. Composition of crystallising material ##\n",
    "\n",
    "### 60 Minutes ###\n",
    "\n",
    "### Reading in and plotting up the Data ###\n",
    "\n",
    "The major element trends of picrites and basalts from this region can be used to estimate the modal mineralogy of material that is crystallising within the Icelandic crust. \n",
    "\n",
    "First of all, take a look at some field photos and photos of thin sections of samples from the Krafla and Theistareykir segments, available in the [this slide show](https://drive.google.com/file/d/1SC0jxhD4ywpX1D2GFOCinWRieYf8OWS7/view?usp=sharing). Note the range of macrocryst types present, their textures, and the modal mineralogy of cumulate xenoliths excavated by these mafic melts.\n",
    "\n",
    "Next, load up and plot some whole-rock data from the Krafla and Theistareykir segments. "
   ]
  },
  {
   "cell_type": "code",
   "execution_count": 1,
   "id": "alive-minimum",
   "metadata": {},
   "outputs": [],
   "source": [
    "import numpy as np\n",
    "import pandas as pd\n",
    "import seaborn as sns\n",
    "from scipy import linalg"
   ]
  },
  {
   "cell_type": "markdown",
   "id": "elder-transmission",
   "metadata": {},
   "source": [
    "__Q3.1__ Enter code in the cell below to read in the file `maj_p24.csv`. "
   ]
  },
  {
   "cell_type": "code",
   "execution_count": 2,
   "id": "prepared-coach",
   "metadata": {},
   "outputs": [
    {
     "data": {
      "text/html": [
       "<div>\n",
       "<style scoped>\n",
       "    .dataframe tbody tr th:only-of-type {\n",
       "        vertical-align: middle;\n",
       "    }\n",
       "\n",
       "    .dataframe tbody tr th {\n",
       "        vertical-align: top;\n",
       "    }\n",
       "\n",
       "    .dataframe thead th {\n",
       "        text-align: right;\n",
       "    }\n",
       "</style>\n",
       "<table border=\"1\" class=\"dataframe\">\n",
       "  <thead>\n",
       "    <tr style=\"text-align: right;\">\n",
       "      <th></th>\n",
       "      <th>Unnamed: 0</th>\n",
       "      <th>Sample</th>\n",
       "      <th>Eruption</th>\n",
       "      <th>Volume.km3.</th>\n",
       "      <th>num_min_age.wrt2000AD.</th>\n",
       "      <th>num_max_age.wrt2000AD.</th>\n",
       "      <th>Reference</th>\n",
       "      <th>Zone</th>\n",
       "      <th>SiO2</th>\n",
       "      <th>TiO2</th>\n",
       "      <th>Al2O3</th>\n",
       "      <th>FeOt</th>\n",
       "      <th>MgO</th>\n",
       "      <th>CaO</th>\n",
       "      <th>Na2O</th>\n",
       "      <th>K2O</th>\n",
       "    </tr>\n",
       "  </thead>\n",
       "  <tbody>\n",
       "    <tr>\n",
       "      <th>0</th>\n",
       "      <td>1</td>\n",
       "      <td>H16</td>\n",
       "      <td>Laxarhraun_yngra</td>\n",
       "      <td>2.50</td>\n",
       "      <td>2100.0</td>\n",
       "      <td>2100.0</td>\n",
       "      <td>Kokfelt2006</td>\n",
       "      <td>NNVZ</td>\n",
       "      <td>49.410</td>\n",
       "      <td>1.530</td>\n",
       "      <td>14.94</td>\n",
       "      <td>11.250</td>\n",
       "      <td>7.520</td>\n",
       "      <td>12.750</td>\n",
       "      <td>2.080</td>\n",
       "      <td>0.160</td>\n",
       "    </tr>\n",
       "    <tr>\n",
       "      <th>1</th>\n",
       "      <td>2</td>\n",
       "      <td>b1</td>\n",
       "      <td>Reykjaheidi</td>\n",
       "      <td>NaN</td>\n",
       "      <td>0.0</td>\n",
       "      <td>5000.0</td>\n",
       "      <td>Hemond1993</td>\n",
       "      <td>NNVZ</td>\n",
       "      <td>48.731</td>\n",
       "      <td>0.887</td>\n",
       "      <td>19.37</td>\n",
       "      <td>9.012</td>\n",
       "      <td>6.729</td>\n",
       "      <td>13.253</td>\n",
       "      <td>1.723</td>\n",
       "      <td>0.071</td>\n",
       "    </tr>\n",
       "    <tr>\n",
       "      <th>2</th>\n",
       "      <td>3</td>\n",
       "      <td>l9358</td>\n",
       "      <td>Storavitishraun</td>\n",
       "      <td>18.40</td>\n",
       "      <td>11300.0</td>\n",
       "      <td>11300.0</td>\n",
       "      <td>Slater2001</td>\n",
       "      <td>NNVZ</td>\n",
       "      <td>49.490</td>\n",
       "      <td>0.950</td>\n",
       "      <td>15.27</td>\n",
       "      <td>10.050</td>\n",
       "      <td>8.810</td>\n",
       "      <td>13.210</td>\n",
       "      <td>1.900</td>\n",
       "      <td>0.070</td>\n",
       "    </tr>\n",
       "    <tr>\n",
       "      <th>3</th>\n",
       "      <td>4</td>\n",
       "      <td>l9372</td>\n",
       "      <td>Arnahvammurhraun</td>\n",
       "      <td>0.01</td>\n",
       "      <td>8500.0</td>\n",
       "      <td>10300.0</td>\n",
       "      <td>Slater2001Stracke2003a</td>\n",
       "      <td>NNVZ</td>\n",
       "      <td>48.250</td>\n",
       "      <td>0.780</td>\n",
       "      <td>15.46</td>\n",
       "      <td>9.560</td>\n",
       "      <td>11.240</td>\n",
       "      <td>12.750</td>\n",
       "      <td>1.700</td>\n",
       "      <td>0.040</td>\n",
       "    </tr>\n",
       "    <tr>\n",
       "      <th>4</th>\n",
       "      <td>5</td>\n",
       "      <td>TH13elliott</td>\n",
       "      <td>Skessuhraun</td>\n",
       "      <td>0.01</td>\n",
       "      <td>8500.0</td>\n",
       "      <td>10300.0</td>\n",
       "      <td>Slater2001Elliott1991</td>\n",
       "      <td>NNVZ</td>\n",
       "      <td>48.790</td>\n",
       "      <td>0.970</td>\n",
       "      <td>15.07</td>\n",
       "      <td>10.240</td>\n",
       "      <td>9.760</td>\n",
       "      <td>13.230</td>\n",
       "      <td>1.650</td>\n",
       "      <td>0.060</td>\n",
       "    </tr>\n",
       "    <tr>\n",
       "      <th>...</th>\n",
       "      <td>...</td>\n",
       "      <td>...</td>\n",
       "      <td>...</td>\n",
       "      <td>...</td>\n",
       "      <td>...</td>\n",
       "      <td>...</td>\n",
       "      <td>...</td>\n",
       "      <td>...</td>\n",
       "      <td>...</td>\n",
       "      <td>...</td>\n",
       "      <td>...</td>\n",
       "      <td>...</td>\n",
       "      <td>...</td>\n",
       "      <td>...</td>\n",
       "      <td>...</td>\n",
       "      <td>...</td>\n",
       "    </tr>\n",
       "    <tr>\n",
       "      <th>524</th>\n",
       "      <td>525</td>\n",
       "      <td>KK2@7</td>\n",
       "      <td>NaN</td>\n",
       "      <td>NaN</td>\n",
       "      <td>190000.0</td>\n",
       "      <td>210000.0</td>\n",
       "      <td>Nicholson1991</td>\n",
       "      <td>NNVZ</td>\n",
       "      <td>50.180</td>\n",
       "      <td>1.430</td>\n",
       "      <td>14.52</td>\n",
       "      <td>12.540</td>\n",
       "      <td>7.150</td>\n",
       "      <td>11.490</td>\n",
       "      <td>2.160</td>\n",
       "      <td>0.180</td>\n",
       "    </tr>\n",
       "    <tr>\n",
       "      <th>525</th>\n",
       "      <td>526</td>\n",
       "      <td>KK35@7</td>\n",
       "      <td>NaN</td>\n",
       "      <td>NaN</td>\n",
       "      <td>190000.0</td>\n",
       "      <td>210000.0</td>\n",
       "      <td>Nicholson1991</td>\n",
       "      <td>NNVZ</td>\n",
       "      <td>57.960</td>\n",
       "      <td>1.330</td>\n",
       "      <td>15.67</td>\n",
       "      <td>9.620</td>\n",
       "      <td>3.350</td>\n",
       "      <td>7.290</td>\n",
       "      <td>3.530</td>\n",
       "      <td>0.820</td>\n",
       "    </tr>\n",
       "    <tr>\n",
       "      <th>526</th>\n",
       "      <td>527</td>\n",
       "      <td>KK81@7</td>\n",
       "      <td>NaN</td>\n",
       "      <td>NaN</td>\n",
       "      <td>190000.0</td>\n",
       "      <td>210000.0</td>\n",
       "      <td>Nicholson1991</td>\n",
       "      <td>NNVZ</td>\n",
       "      <td>49.700</td>\n",
       "      <td>0.690</td>\n",
       "      <td>15.59</td>\n",
       "      <td>9.390</td>\n",
       "      <td>9.010</td>\n",
       "      <td>13.680</td>\n",
       "      <td>1.660</td>\n",
       "      <td>0.050</td>\n",
       "    </tr>\n",
       "    <tr>\n",
       "      <th>527</th>\n",
       "      <td>528</td>\n",
       "      <td>KK84@7</td>\n",
       "      <td>NaN</td>\n",
       "      <td>NaN</td>\n",
       "      <td>190000.0</td>\n",
       "      <td>210000.0</td>\n",
       "      <td>Nicholson1991</td>\n",
       "      <td>NNVZ</td>\n",
       "      <td>50.060</td>\n",
       "      <td>1.830</td>\n",
       "      <td>13.53</td>\n",
       "      <td>14.640</td>\n",
       "      <td>6.530</td>\n",
       "      <td>10.670</td>\n",
       "      <td>2.100</td>\n",
       "      <td>0.220</td>\n",
       "    </tr>\n",
       "    <tr>\n",
       "      <th>528</th>\n",
       "      <td>529</td>\n",
       "      <td>IC48</td>\n",
       "      <td>Jokulsa</td>\n",
       "      <td>NaN</td>\n",
       "      <td>70000.0</td>\n",
       "      <td>210000.0</td>\n",
       "      <td>Hardarson1997</td>\n",
       "      <td>NNVZ</td>\n",
       "      <td>50.750</td>\n",
       "      <td>2.370</td>\n",
       "      <td>14.15</td>\n",
       "      <td>12.570</td>\n",
       "      <td>5.780</td>\n",
       "      <td>10.160</td>\n",
       "      <td>3.150</td>\n",
       "      <td>0.590</td>\n",
       "    </tr>\n",
       "  </tbody>\n",
       "</table>\n",
       "<p>529 rows × 16 columns</p>\n",
       "</div>"
      ],
      "text/plain": [
       "     Unnamed: 0       Sample          Eruption  Volume.km3.  \\\n",
       "0             1          H16  Laxarhraun_yngra         2.50   \n",
       "1             2           b1       Reykjaheidi          NaN   \n",
       "2             3        l9358   Storavitishraun        18.40   \n",
       "3             4        l9372  Arnahvammurhraun         0.01   \n",
       "4             5  TH13elliott       Skessuhraun         0.01   \n",
       "..          ...          ...               ...          ...   \n",
       "524         525        KK2@7               NaN          NaN   \n",
       "525         526       KK35@7               NaN          NaN   \n",
       "526         527       KK81@7               NaN          NaN   \n",
       "527         528       KK84@7               NaN          NaN   \n",
       "528         529         IC48           Jokulsa          NaN   \n",
       "\n",
       "     num_min_age.wrt2000AD.  num_max_age.wrt2000AD.               Reference  \\\n",
       "0                    2100.0                  2100.0             Kokfelt2006   \n",
       "1                       0.0                  5000.0              Hemond1993   \n",
       "2                   11300.0                 11300.0              Slater2001   \n",
       "3                    8500.0                 10300.0  Slater2001Stracke2003a   \n",
       "4                    8500.0                 10300.0   Slater2001Elliott1991   \n",
       "..                      ...                     ...                     ...   \n",
       "524                190000.0                210000.0           Nicholson1991   \n",
       "525                190000.0                210000.0           Nicholson1991   \n",
       "526                190000.0                210000.0           Nicholson1991   \n",
       "527                190000.0                210000.0           Nicholson1991   \n",
       "528                 70000.0                210000.0           Hardarson1997   \n",
       "\n",
       "     Zone    SiO2   TiO2  Al2O3    FeOt     MgO     CaO   Na2O    K2O  \n",
       "0    NNVZ  49.410  1.530  14.94  11.250   7.520  12.750  2.080  0.160  \n",
       "1    NNVZ  48.731  0.887  19.37   9.012   6.729  13.253  1.723  0.071  \n",
       "2    NNVZ  49.490  0.950  15.27  10.050   8.810  13.210  1.900  0.070  \n",
       "3    NNVZ  48.250  0.780  15.46   9.560  11.240  12.750  1.700  0.040  \n",
       "4    NNVZ  48.790  0.970  15.07  10.240   9.760  13.230  1.650  0.060  \n",
       "..    ...     ...    ...    ...     ...     ...     ...    ...    ...  \n",
       "524  NNVZ  50.180  1.430  14.52  12.540   7.150  11.490  2.160  0.180  \n",
       "525  NNVZ  57.960  1.330  15.67   9.620   3.350   7.290  3.530  0.820  \n",
       "526  NNVZ  49.700  0.690  15.59   9.390   9.010  13.680  1.660  0.050  \n",
       "527  NNVZ  50.060  1.830  13.53  14.640   6.530  10.670  2.100  0.220  \n",
       "528  NNVZ  50.750  2.370  14.15  12.570   5.780  10.160  3.150  0.590  \n",
       "\n",
       "[529 rows x 16 columns]"
      ]
     },
     "execution_count": 2,
     "metadata": {},
     "output_type": "execute_result"
    }
   ],
   "source": [
    "wrmaj = pd.read_csv('maj_p24.csv')\n",
    "wrmaj"
   ]
  },
  {
   "cell_type": "markdown",
   "id": "present-defendant",
   "metadata": {},
   "source": [
    "__Q3.2__ There is also a file containing mineral compositions in the folder. It is called `min_p24.csv`. Read this file into a data frame."
   ]
  },
  {
   "cell_type": "code",
   "execution_count": 3,
   "id": "supreme-practitioner",
   "metadata": {},
   "outputs": [
    {
     "data": {
      "text/html": [
       "<div>\n",
       "<style scoped>\n",
       "    .dataframe tbody tr th:only-of-type {\n",
       "        vertical-align: middle;\n",
       "    }\n",
       "\n",
       "    .dataframe tbody tr th {\n",
       "        vertical-align: top;\n",
       "    }\n",
       "\n",
       "    .dataframe thead th {\n",
       "        text-align: right;\n",
       "    }\n",
       "</style>\n",
       "<table border=\"1\" class=\"dataframe\">\n",
       "  <thead>\n",
       "    <tr style=\"text-align: right;\">\n",
       "      <th></th>\n",
       "      <th>Mineral</th>\n",
       "      <th>SiO2</th>\n",
       "      <th>Al2O3</th>\n",
       "      <th>FeOt</th>\n",
       "      <th>MgO</th>\n",
       "      <th>CaO</th>\n",
       "    </tr>\n",
       "  </thead>\n",
       "  <tbody>\n",
       "    <tr>\n",
       "      <th>0</th>\n",
       "      <td>Olivine</td>\n",
       "      <td>40.21</td>\n",
       "      <td>0.01</td>\n",
       "      <td>12.82</td>\n",
       "      <td>46.23</td>\n",
       "      <td>0.33</td>\n",
       "    </tr>\n",
       "    <tr>\n",
       "      <th>1</th>\n",
       "      <td>Clinopyroxene</td>\n",
       "      <td>51.84</td>\n",
       "      <td>3.75</td>\n",
       "      <td>5.91</td>\n",
       "      <td>17.05</td>\n",
       "      <td>19.56</td>\n",
       "    </tr>\n",
       "    <tr>\n",
       "      <th>2</th>\n",
       "      <td>Plagioclase</td>\n",
       "      <td>47.29</td>\n",
       "      <td>33.53</td>\n",
       "      <td>0.44</td>\n",
       "      <td>0.10</td>\n",
       "      <td>17.16</td>\n",
       "    </tr>\n",
       "  </tbody>\n",
       "</table>\n",
       "</div>"
      ],
      "text/plain": [
       "         Mineral   SiO2  Al2O3   FeOt    MgO    CaO\n",
       "0        Olivine  40.21   0.01  12.82  46.23   0.33\n",
       "1  Clinopyroxene  51.84   3.75   5.91  17.05  19.56\n",
       "2    Plagioclase  47.29  33.53   0.44   0.10  17.16"
      ]
     },
     "execution_count": 3,
     "metadata": {},
     "output_type": "execute_result"
    }
   ],
   "source": [
    "minmaj = pd.read_csv('min_p24.csv')\n",
    "minmaj"
   ]
  },
  {
   "cell_type": "markdown",
   "id": "surprising-bishop",
   "metadata": {},
   "source": [
    "$$\\require{mhchem}$$ \n",
    "\n",
    "Here is code, using the `seaborn` package for data plotting, that you can use to make a plot of the major element compositions of the lava samples and the minerals. The first plot is $\\ce{FeO_t}$ against $\\ce{MgO}$ - The $\\ce{FeO_t}$ means that all iron, both ferric and ferrous is expressed as $\\ce{FeO}$. Usually, about 15% of the $\\ce{Fe}$ is $\\ce{Fe^{3+}}$."
   ]
  },
  {
   "cell_type": "code",
   "execution_count": 4,
   "id": "lasting-michael",
   "metadata": {
    "lines_to_next_cell": 2,
    "scrolled": false
   },
   "outputs": [
    {
     "data": {
      "text/plain": [
       "<AxesSubplot:xlabel='MgO', ylabel='FeOt'>"
      ]
     },
     "execution_count": 4,
     "metadata": {},
     "output_type": "execute_result"
    },
    {
     "data": {
      "image/png": "[encoded data removed]",
      "text/plain": [
       "<Figure size 432x288 with 1 Axes>"
      ]
     },
     "metadata": {},
     "output_type": "display_data"
    }
   ],
   "source": [
    "sns.set_style(\"whitegrid\")\n",
    "sns.scatterplot(data=wrmaj, x=\"MgO\", y=\"FeOt\") # not beautiful, but effective. Look at manual to change colours and other aesthetics\n",
    "sns.scatterplot(data=minmaj, x=\"MgO\", y=\"FeOt\")"
   ]
  },
  {
   "cell_type": "code",
   "execution_count": 7,
   "id": "unsigned-video",
   "metadata": {
    "scrolled": true
   },
   "outputs": [
    {
     "data": {
      "text/plain": [
       "<seaborn.axisgrid.FacetGrid at 0x7fd39791d490>"
      ]
     },
     "execution_count": 7,
     "metadata": {},
     "output_type": "execute_result"
    },
    {
     "data": {
      "image/png": "[encoded data removed]",
      "text/plain": [
       "<Figure size 360x360 with 1 Axes>"
      ]
     },
     "metadata": {},
     "output_type": "display_data"
    },
    {
     "data": {
      "image/png": "[encoded data removed]",
      "text/plain": [
       "<Figure size 360x360 with 1 Axes>"
      ]
     },
     "metadata": {},
     "output_type": "display_data"
    }
   ],
   "source": [
    "wrmaj_hi = wrmaj[wrmaj.MgO > 9.5]\n",
    "wrmaj_lo = wrmaj[(wrmaj.MgO < 9.5) & (wrmaj.MgO > 5.0)]\n",
    "sns.set_style(\"whitegrid\")\n",
    "sns.lmplot(data=wrmaj_hi, x=\"MgO\", y=\"FeOt\") # not beautiful, but effective. Look at manual to change colours and other aesthetics\n",
    "sns.lmplot(data=wrmaj_lo, x=\"MgO\", y=\"FeOt\")\n",
    "\n",
    "from scipy import stats\n",
    "\n",
    "# get coeffs of linear fit\n",
    "slope, intercept, r_value, p_value, std_err = stats.linregress(tips['total_bill'],tips['tip'])\n",
    "\n",
    "# use line_kws to set line label for legend\n",
    "ax = sns.regplot(x=\"total_bill\", y=\"tip\", data=tips, color='b', \n",
    " line_kws={'label':\"y={0:.1f}x+{1:.1f}\".format(slope,intercept)})\n",
    "\n",
    "# plot legend\n",
    "ax.legend()\n",
    "\n",
    "plt.show()\n"
   ]
  },
  {
   "cell_type": "markdown",
   "id": "suitable-providence",
   "metadata": {},
   "source": [
    "Make sure that you can see which mineral is which!\n",
    "\n",
    "__Q3.2__ Write some more code to show plots of $\\ce{Al2O3}$ vs $\\ce{MgO}$ and $\\ce{CaO}$ vs $\\ce{MgO}$. \n"
   ]
  },
  {
   "cell_type": "code",
   "execution_count": 7,
   "id": "identified-margin",
   "metadata": {},
   "outputs": [
    {
     "data": {
      "text/plain": [
       "<AxesSubplot:xlabel='MgO', ylabel='Al2O3'>"
      ]
     },
     "execution_count": 7,
     "metadata": {},
     "output_type": "execute_result"
    },
    {
     "data": {
      "image/png": "[encoded data removed]",
      "text/plain": [
       "<Figure size 432x288 with 1 Axes>"
      ]
     },
     "metadata": {
      "needs_background": "light"
     },
     "output_type": "display_data"
    }
   ],
   "source": [
    "# write your code in here\n",
    "sns.scatterplot(data=wrmaj, x=\"MgO\", y=\"Al2O3\")\n",
    "sns.scatterplot(data=minmaj, x=\"MgO\", y=\"Al2O3\")"
   ]
  },
  {
   "cell_type": "code",
   "execution_count": 8,
   "id": "developmental-samba",
   "metadata": {},
   "outputs": [
    {
     "data": {
      "text/plain": [
       "<AxesSubplot:xlabel='MgO', ylabel='CaO'>"
      ]
     },
     "execution_count": 8,
     "metadata": {},
     "output_type": "execute_result"
    },
    {
     "data": {
      "image/png": "[encoded data removed]",
      "text/plain": [
       "<Figure size 432x288 with 1 Axes>"
      ]
     },
     "metadata": {
      "needs_background": "light"
     },
     "output_type": "display_data"
    }
   ],
   "source": [
    "# write your code in here\n",
    "sns.scatterplot(data=wrmaj, x=\"MgO\", y=\"CaO\")\n",
    "sns.scatterplot(data=minmaj, x=\"MgO\", y=\"CaO\")"
   ]
  },
  {
   "cell_type": "markdown",
   "id": "focal-sympathy",
   "metadata": {},
   "source": [
    "### Interpreting the Trends ###\n",
    "\n",
    "It is possible to understand the kinks and trends in these plots using the concept of a _liquid line of descent_. In this way of thinking, a single liquid composition is supplied from the mantle and then evolves by cooling and fractional crystallisation in magma chambers. The pattern of whole-rock compositions can be broadly matched by such an approach for Krafla and Theistareykir.\n",
    "\n",
    "__Q3.3__ The primary melt compositions for Iceland are not likely to contain more than about 15 wt% MgO. How is it then possible to have whole-rock lava samples that contain >20 wt% MgO? Hint - look at the thin section images in the powerpoint folder.\n",
    "\n",
    "_Crystal accumulation of olivine_\n"
   ]
  },
  {
   "cell_type": "markdown",
   "id": "foreign-uruguay",
   "metadata": {},
   "source": [
    "You can also see a strong linear trend in samples with <5 wt% MgO. This trend is thought to result partly from fractional crystallisation of a cumulate material containing magnetite (which explains the drop in Fe with evolution) and also mixing of evolved basalts with rhyolites. You should also be able to identify two other dominant segments. \n",
    "\n",
    "__Q3.4__ Use the compositional trends from your figures to estimate the modal mineralogy of the average crystallising material controlling the major trends in lava samples with >5 wt% in this dataset. Assign a rock name to each of these cumulate mineralogies. There are a number of different ways to make such estimates (in normal times we might use [ternary graph paper](https://commons.wikimedia.org/wiki/File:Ternary_plot_empty_diagram.svg) for a geometric approach, or maybe seek to seek an algebraic approach. \n",
    "\n",
    " + High MgO trend: \n",
    " \n",
    " _High MgO trend: Ol = 70%; Cpx = 30%; Plag = 0%; Rock = Wehrlite or Olivine Clinpyroxenite_\n",
    " \n",
    "\n",
    " + Low MgO trend:\n",
    " \n",
    " _Low MgO trend: Ol = 10%; Cpx = 40%; Plag = 50%; Rock = Gabbro_\n",
    "\n"
   ]
  },
  {
   "cell_type": "markdown",
   "id": "experienced-ireland",
   "metadata": {},
   "source": [
    "__Q3.5__ Comment on the relationship between the composition of the crustal xenoliths observed in the Krafla and Theistareykir samples (in the slideshow) and the calculated cumulate compositions from Question 3.4.\n",
    "\n",
    "_Remarkably similar - ultramafic cumulates and gabbros_\n"
   ]
  },
  {
   "cell_type": "markdown",
   "id": "reported-boating",
   "metadata": {},
   "source": [
    "__Q3.6__ Use your answers to the previous question and the mineral compositions to estimate the MgO content of\n",
    "\n",
    " + The cumulate material formed from high MgO liquids: *40 wt% MgO*\n",
    "\n",
    " + The cumulate material formed from low MgO liquids: *12 wt% MgO*"
   ]
  },
  {
   "cell_type": "markdown",
   "id": "sexual-segment",
   "metadata": {},
   "source": [
    "__Q3.7__ If the primary melt contains ~14 wt% MgO, then use mass balance to estimate the fraction of crystallisation required to form liquids with\n",
    "\n",
    " + 10 wt% MgO: *15% crystallisation*\n",
    "\n",
    " + 7 wt% MgO: *75% crystallisation*\n"
   ]
  },
  {
   "cell_type": "markdown",
   "id": "automotive-tuner",
   "metadata": {},
   "source": [
    "\n",
    "### Modelling Crystallisation Paths ###\n",
    "You have just extracted information about the composition of the cumulate material by assuming that the variation in the compositions of lava samples can be matched by fractional crystallisation of the minerals observed as macrocryst phases in the samples themselves. This seems like a reasonable approach. Another approach involves specifying a primary melt composition and the physical conditions of crystallisation and using parameterisations of experimental data and thermodynamic logic to predict the sequence of crystallisation, the mineral proportions, mineral compositions and the liquid line of descent. Programs such as [PETROLOG](https://agupubs.onlinelibrary.wiley.com/doi/10.1029/2011GC003516) by Leonid Danyushevsky and [MELTS](http://melts.ofm-research.org/) by Ghiorso and Sack provide useful tools for exploring crystallisation paths. If you have the time and the inclination you could try to run an LLD model and see if you can match the Icelandic data. MELTS is now available in Python, but needs to use some technical wizardry to make it available to you through Binder, which is beyond my current abilities.  \n",
    "\n"
   ]
  },
  {
   "cell_type": "markdown",
   "id": "beautiful-might",
   "metadata": {},
   "source": [
    "## 4. Depth of crystallisation: Clinopyroxene-melt barometry ##\n",
    "\n",
    "### 30 minutes ###\n",
    "\n",
    "Clinopyroxene phenocrysts are rare in MORB. This observation, combined with the fact that many MORB fractionation trends are gabbro-controlled (i.e. ~40% modal clinopyroxene) has been termed the ‘pyroxene paradox’. However, it is not paradoxical if one understands the effect of pressure on the pyroxene stability field.\n",
    "\n",
    "Fortunately, some Icelandic basalt flows contain clinopyroxene phenocrysts. More primitive flows contain pyroxenes with a distinctive ‘Heineken’ green colour – chromian diopsides. More evolved flows, such as the Krafla fissure eruptions, contain black/purple Ti-bearing augites. The composition of pyroxene phenocrysts is influenced both by the composition of the melt that they grow from and by the physical conditions (i.e. P, T) at the time of growth. [David Neave](https://pubs.geoscienceworld.org/ammin/article-lookup/102/4/777) has recently parameterised the results of hundreds of experiments that involve cpx-basalt equilibrium, and has produced a thermobarometer for Iceland compositions, shown below:"
   ]
  },
  {
   "cell_type": "markdown",
   "id": "becoming-compatibility",
   "metadata": {},
   "source": [
    "$$ {\\rm P = -26.27 + 39.16 \\frac{T}{10^4} \\ln{\\left[ \\frac{X_{jd}}{X_{NaO0.5}X_{AlO1.5}X_{SiO2}^2} \\right]} -4.22 \\ln(X_{DiHd}) + 78.43X_{AlO1.5} + 393.81\\left(X_{NaO0.5} X_{KO0.5} \\right)^2}$$\n",
    "\n",
    "where ${\\rm X_{jd}}$ and ${\\rm X_{DiHd}}$ describe the Jadeite and Diopside-Hedenbergite components in the clinopyroxene and ${\\rm X_{NaO0.5}}$, ${\\rm X_{AlO1.5}}$, ${\\rm X_{SiO2}}$ and ${\\rm X_{KO0.5}}$ give cation fractions of various elements in the equilibrium melt. \n",
    "\n",
    "__Q4.1__ Inspect this equation. The key term is the second on the right hand side. Does the relationship between pyroxene composition and pressure agree with that which you would expect from metamorphic petrology?\n",
    "\n",
    "_Yes - high Jadeite content at high pressure_\n",
    "\n"
   ]
  },
  {
   "cell_type": "markdown",
   "id": "eleven-bonus",
   "metadata": {},
   "source": [
    "The estimated pressure of crystallisation correlates with the jadeite content of the pyroxene. Application of this thermobarometer to real rocks relies upon the assumption that the pyroxene crystals and the liquid composition are in equilibrium. Unfortunately, many Icelandic samples have crystalline groundmasses, so the whole-rock composition has to be used as an estimate of the liquid composition – problematic if the rock is rich in phenocrysts.\n",
    "The table below shows liquid and clinopyroxene phenocryst compositions from Borgarhraun (a primitive early postglacial flow from Theistareykir) and from the 1984 Krafla fissure eruption. Note the high Al and Cr content of the Borgarhraun cpx – a good sign of high pressure crystallisation.\n",
    "\n",
    "Fortunately, David has posted an [excel spreadsheet](https://drive.google.com/file/d/1Kvkxa3zjIWFL2dKGwW2A6Ra6vWph8jia/view?usp=sharing) which you can download and use for thermobarometry. Try entering these melt-clinopyroxene compositional pairs into the spreadsheet after looking at the instructions tab. You might have to download the file to your machine to get the calculator to work. Thankfully, by next year, Penny Wieser (now at Oregon), will have made a Python package to carry out this barometry. \n",
    "\n",
    "![*Table 1: Lava and clinopyroxene macrocryst compositions from two eruptions from northern Iceland*](cpx_tab.png)\n",
    "\n",
    "__Table 1:__ Lava and clinopyroxene macrocryst compositions from two eruptions from northern Iceland "
   ]
  },
  {
   "cell_type": "markdown",
   "id": "reliable-speech",
   "metadata": {},
   "source": [
    "__Q4.2__ What pressure and temperatures of equilibration does your thermobarometry return for these compositions?\n",
    " + Borgarhraun T: *1226${^{\\circ}}$C*\n",
    " + Borgarhraun P: *4.8 kbar*\n",
    " + Krafla T: *1186${^{\\circ}}$C*\n",
    " + Krafla P: *3.0 kbar*\n"
   ]
  },
  {
   "cell_type": "markdown",
   "id": "stopped-eight",
   "metadata": {},
   "source": [
    "__Q4.3__ Why do you think that the pyroxenes present in the samples in the thin sections show a distinctive anhedral shape?\n",
    "\n",
    "*Clinopyroxene grew at depth, but goes out of equilibrium with melting during decompression between storage at high pressure and eruption. Cpx phase field shrinks with decreasing pressure.*\n",
    "\n",
    "_HINT: You can look at [this paper](https://www.frontiersin.org/articles/10.3389/feart.2020.00188/full) for a little bit of extra info._"
   ]
  },
  {
   "cell_type": "markdown",
   "id": "vietnamese-force",
   "metadata": {},
   "source": [
    "## 5. Depth of crystallisation: Order of crystallisation ##\n",
    "\n",
    "### 15 minutes ###\n",
    "\n",
    "Crystallisation experiments on MORB-like compositions indicate that the order of appearance of phases on the liquidus (i.e. the order of crystallisation) is dependent on pressure. At pressures of >6 kbar, the crystallisation assemblages evolve from ol → ol+cpx  → ol+cpx+plg. At lower pressures, plagioclase appears before clinopyroxene, giving, ol → ol+plg  → ol+plg+cpx.\n",
    "\n",
    "Recall from the thin section observations that the Borgarhraun eruption contains a number of cognate xenoliths, including gabbros, wehrlites (ol+cpx cumulates) and occasional troctolites (ol+ plag cumulates).\n",
    "\n",
    "__Q5.11__ Use the information in Figure 3 to estimate the following:\n",
    "\n",
    " + The order of crystallisation (i.e. did plag or cpx join liquidus earlier?): *cpx first*\n",
    "\n",
    " + The pressure of crystallisation (i.e. more or less than 6 kbar?) *nmore than 6 kbar*\n",
    "\n",
    "![*Figure 3: Compositions of co-existing mineral pairs in Borgarhraun cognate xenoliths. The blue circles (at higher Fo) are wehrlite cumulates. The red squares are gabbroic cumulates.*](crys_ord.png)\n",
    "\n",
    "__Figure 3:__ Compositions of co-existing mineral pairs in Borgarhraun cognate xenoliths. The blue circles (at higher Fo) are wehrlite cumulates. The red squares are gabbroic cumulates."
   ]
  },
  {
   "cell_type": "markdown",
   "id": "norman-chosen",
   "metadata": {},
   "source": [
    "## 6. Depth of crystallisation: Liquid composition ##\n",
    "\n",
    "### 15 minutes ###\n",
    "\n",
    "Experimental results have also shown that the composition of liquid in equilibrium with olivine, clinopyroxene and plagioclase varies as a function of pressure. A number of workers have parameterised this relationship. Projections of Krafla and Theistareykir sample compositions and predicted ol-cpx-plg saturated melts are shown in Figure 4. "
   ]
  },
  {
   "cell_type": "markdown",
   "id": "joint-richmond",
   "metadata": {},
   "source": [
    "![*Figure 4: The compositions of whole-rock samples are projected from plagioclase onto the olivine-diopside-quartz face of the basalt tetrahedron. Circles are Theistareykir (including Borgarhraun) and squares Krafla. The predicted liquid compositions in equilibrium with ol-cpx-plag are shown as lines. Each line corresponds to a different pressure (here given in GPa).*](opam.png)\n",
    "\n",
    "__Figure 4:__ The compositions of whole-rock samples are projected from plagioclase onto the olivine-diopside-quartz face of the basalt tetrahedron. Circles are Theistareykir (including Borgarhraun) and squares Krafla. The predicted liquid compositions in equilibrium with ol-cpx-plag are shown as lines. Each line corresponds to a different pressure (here given in GPa).\n",
    "\n",
    "__Q6.1__ Are the pressure estimates of Borgarhraun crystallisation from Figure 4 in agreement with those from other barometric methods?\n",
    "\n",
    "*Not entirely. Crystallisation pressure estimates range from 5 kbar to about 10 kbar. Some of this represents systematic errors (disequilibrium), some uncertainty in the methods - this discrepancy will hopefully be resolved in near future.*\n",
    "\n",
    "__Q6.2__ At what depth does crystallization of Borgarhraun melt take place? Is this above or below the Moho in northern Iceland?\n",
    "*Use density estimate and crustal thickness from seismic survey in figure to show - given uncertainty, likely to be close to Moho, within 5 km or so*\n",
    "\n",
    "__Q6.3__ Does crystallization of Krafla melt take place in the shallow chamber that has been seismically imaged at 3-5 km depth under the caldera?\n",
    "*No, it appears to crystallise in mid-crust*\n",
    "\n",
    "__Q6.4__ Use the geophysical, petrological constraints to draw a conceptual model of crystallization under Krafla and Theistareykir. You may use the diagrams in Figure 1 as a starting point. Does the gabbro-glacier or stacked-sills model provide a better representation for crystallization under Iceland?\n",
    "\n",
    "*Stacked sills - substantial crystallisation must take place in the lower crust. Krafla melt compositions have lost >50% of their original mass by crystallisation, and are stored in the mid-crust. Indicates that shallow melt lens is not dominant location of crystallisation and crustal formation*"
   ]
  },
  {
   "cell_type": "code",
   "execution_count": null,
   "id": "professional-yemen",
   "metadata": {},
   "outputs": [],
   "source": []
  }
 ],
 "metadata": {
  "jupytext": {
   "cell_metadata_filter": "name,tags,-all",
   "main_language": "R",
   "notebook_metadata_filter": "-all"
  },
  "kernelspec": {
   "display_name": "Python 3",
   "language": "python",
   "name": "python3"
  },
  "language_info": {
   "codemirror_mode": {
    "name": "ipython",
    "version": 3
   },
   "file_extension": ".py",
   "mimetype": "text/x-python",
   "name": "python",
   "nbconvert_exporter": "python",
   "pygments_lexer": "ipython3",
   "version": "3.9.2"
  }
 },
 "nbformat": 4,
 "nbformat_minor": 5
}
